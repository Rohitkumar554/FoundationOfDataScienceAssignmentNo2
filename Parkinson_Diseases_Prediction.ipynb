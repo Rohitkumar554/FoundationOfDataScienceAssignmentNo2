{
 "cells": [
  {
   "cell_type": "code",
   "execution_count": 1,
   "id": "d282c272",
   "metadata": {},
   "outputs": [
    {
     "name": "stderr",
     "output_type": "stream",
     "text": [
      "C:\\Users\\Faraz\\AppData\\Local\\Programs\\Python\\Python310\\lib\\site-packages\\scipy\\__init__.py:146: UserWarning: A NumPy version >=1.16.5 and <1.23.0 is required for this version of SciPy (detected version 1.25.2\n",
      "  warnings.warn(f\"A NumPy version >={np_minversion} and <{np_maxversion}\"\n"
     ]
    }
   ],
   "source": [
    "import pandas as pd\n",
    "import numpy as np \n",
    "import matplotlib.pyplot as plt\n",
    "import seaborn as sns "
   ]
  },
  {
   "cell_type": "code",
   "execution_count": 2,
   "id": "2f873d35",
   "metadata": {},
   "outputs": [
    {
     "data": {
      "text/html": [
       "<div>\n",
       "<style scoped>\n",
       "    .dataframe tbody tr th:only-of-type {\n",
       "        vertical-align: middle;\n",
       "    }\n",
       "\n",
       "    .dataframe tbody tr th {\n",
       "        vertical-align: top;\n",
       "    }\n",
       "\n",
       "    .dataframe thead th {\n",
       "        text-align: right;\n",
       "    }\n",
       "</style>\n",
       "<table border=\"1\" class=\"dataframe\">\n",
       "  <thead>\n",
       "    <tr style=\"text-align: right;\">\n",
       "      <th></th>\n",
       "      <th>subject#</th>\n",
       "      <th>age</th>\n",
       "      <th>sex</th>\n",
       "      <th>test_time</th>\n",
       "      <th>motor_updrs</th>\n",
       "      <th>total_updrs</th>\n",
       "      <th>jitter(%)</th>\n",
       "      <th>jitter(abs)</th>\n",
       "      <th>jitter(rap)</th>\n",
       "      <th>jitter(ppq5)</th>\n",
       "      <th>...</th>\n",
       "      <th>shimmer(abs)</th>\n",
       "      <th>shimmer(apq3)</th>\n",
       "      <th>shimmer(apq5)</th>\n",
       "      <th>shimmer(apq11)</th>\n",
       "      <th>shimmer(dda)</th>\n",
       "      <th>nhr</th>\n",
       "      <th>hnr</th>\n",
       "      <th>rpde</th>\n",
       "      <th>dfa</th>\n",
       "      <th>ppe</th>\n",
       "    </tr>\n",
       "  </thead>\n",
       "  <tbody>\n",
       "    <tr>\n",
       "      <th>0</th>\n",
       "      <td>1</td>\n",
       "      <td>72</td>\n",
       "      <td>0</td>\n",
       "      <td>5.6431</td>\n",
       "      <td>28.199</td>\n",
       "      <td>34.398</td>\n",
       "      <td>0.00662</td>\n",
       "      <td>0.000034</td>\n",
       "      <td>0.00401</td>\n",
       "      <td>0.00317</td>\n",
       "      <td>...</td>\n",
       "      <td>0.230</td>\n",
       "      <td>0.01438</td>\n",
       "      <td>0.01309</td>\n",
       "      <td>0.01662</td>\n",
       "      <td>0.04314</td>\n",
       "      <td>0.014290</td>\n",
       "      <td>21.640</td>\n",
       "      <td>0.41888</td>\n",
       "      <td>0.54842</td>\n",
       "      <td>0.16006</td>\n",
       "    </tr>\n",
       "    <tr>\n",
       "      <th>1</th>\n",
       "      <td>1</td>\n",
       "      <td>72</td>\n",
       "      <td>0</td>\n",
       "      <td>12.6660</td>\n",
       "      <td>28.447</td>\n",
       "      <td>34.894</td>\n",
       "      <td>0.00300</td>\n",
       "      <td>0.000017</td>\n",
       "      <td>0.00132</td>\n",
       "      <td>0.00150</td>\n",
       "      <td>...</td>\n",
       "      <td>0.179</td>\n",
       "      <td>0.00994</td>\n",
       "      <td>0.01072</td>\n",
       "      <td>0.01689</td>\n",
       "      <td>0.02982</td>\n",
       "      <td>0.011112</td>\n",
       "      <td>27.183</td>\n",
       "      <td>0.43493</td>\n",
       "      <td>0.56477</td>\n",
       "      <td>0.10810</td>\n",
       "    </tr>\n",
       "    <tr>\n",
       "      <th>2</th>\n",
       "      <td>1</td>\n",
       "      <td>72</td>\n",
       "      <td>0</td>\n",
       "      <td>19.6810</td>\n",
       "      <td>28.695</td>\n",
       "      <td>35.389</td>\n",
       "      <td>0.00481</td>\n",
       "      <td>0.000025</td>\n",
       "      <td>0.00205</td>\n",
       "      <td>0.00208</td>\n",
       "      <td>...</td>\n",
       "      <td>0.181</td>\n",
       "      <td>0.00734</td>\n",
       "      <td>0.00844</td>\n",
       "      <td>0.01458</td>\n",
       "      <td>0.02202</td>\n",
       "      <td>0.020220</td>\n",
       "      <td>23.047</td>\n",
       "      <td>0.46222</td>\n",
       "      <td>0.54405</td>\n",
       "      <td>0.21014</td>\n",
       "    </tr>\n",
       "    <tr>\n",
       "      <th>3</th>\n",
       "      <td>1</td>\n",
       "      <td>72</td>\n",
       "      <td>0</td>\n",
       "      <td>25.6470</td>\n",
       "      <td>28.905</td>\n",
       "      <td>35.810</td>\n",
       "      <td>0.00528</td>\n",
       "      <td>0.000027</td>\n",
       "      <td>0.00191</td>\n",
       "      <td>0.00264</td>\n",
       "      <td>...</td>\n",
       "      <td>0.327</td>\n",
       "      <td>0.01106</td>\n",
       "      <td>0.01265</td>\n",
       "      <td>0.01963</td>\n",
       "      <td>0.03317</td>\n",
       "      <td>0.027837</td>\n",
       "      <td>24.445</td>\n",
       "      <td>0.48730</td>\n",
       "      <td>0.57794</td>\n",
       "      <td>0.33277</td>\n",
       "    </tr>\n",
       "    <tr>\n",
       "      <th>4</th>\n",
       "      <td>1</td>\n",
       "      <td>72</td>\n",
       "      <td>0</td>\n",
       "      <td>33.6420</td>\n",
       "      <td>29.187</td>\n",
       "      <td>36.375</td>\n",
       "      <td>0.00335</td>\n",
       "      <td>0.000020</td>\n",
       "      <td>0.00093</td>\n",
       "      <td>0.00130</td>\n",
       "      <td>...</td>\n",
       "      <td>0.176</td>\n",
       "      <td>0.00679</td>\n",
       "      <td>0.00929</td>\n",
       "      <td>0.01819</td>\n",
       "      <td>0.02036</td>\n",
       "      <td>0.011625</td>\n",
       "      <td>26.126</td>\n",
       "      <td>0.47188</td>\n",
       "      <td>0.56122</td>\n",
       "      <td>0.19361</td>\n",
       "    </tr>\n",
       "  </tbody>\n",
       "</table>\n",
       "<p>5 rows × 22 columns</p>\n",
       "</div>"
      ],
      "text/plain": [
       "   subject#  age  sex  test_time  motor_updrs  total_updrs  jitter(%)  \\\n",
       "0         1   72    0     5.6431       28.199       34.398    0.00662   \n",
       "1         1   72    0    12.6660       28.447       34.894    0.00300   \n",
       "2         1   72    0    19.6810       28.695       35.389    0.00481   \n",
       "3         1   72    0    25.6470       28.905       35.810    0.00528   \n",
       "4         1   72    0    33.6420       29.187       36.375    0.00335   \n",
       "\n",
       "   jitter(abs)  jitter(rap)  jitter(ppq5)  ...  shimmer(abs)  shimmer(apq3)  \\\n",
       "0     0.000034      0.00401       0.00317  ...         0.230        0.01438   \n",
       "1     0.000017      0.00132       0.00150  ...         0.179        0.00994   \n",
       "2     0.000025      0.00205       0.00208  ...         0.181        0.00734   \n",
       "3     0.000027      0.00191       0.00264  ...         0.327        0.01106   \n",
       "4     0.000020      0.00093       0.00130  ...         0.176        0.00679   \n",
       "\n",
       "   shimmer(apq5)  shimmer(apq11)  shimmer(dda)       nhr     hnr     rpde  \\\n",
       "0        0.01309         0.01662       0.04314  0.014290  21.640  0.41888   \n",
       "1        0.01072         0.01689       0.02982  0.011112  27.183  0.43493   \n",
       "2        0.00844         0.01458       0.02202  0.020220  23.047  0.46222   \n",
       "3        0.01265         0.01963       0.03317  0.027837  24.445  0.48730   \n",
       "4        0.00929         0.01819       0.02036  0.011625  26.126  0.47188   \n",
       "\n",
       "       dfa      ppe  \n",
       "0  0.54842  0.16006  \n",
       "1  0.56477  0.10810  \n",
       "2  0.54405  0.21014  \n",
       "3  0.57794  0.33277  \n",
       "4  0.56122  0.19361  \n",
       "\n",
       "[5 rows x 22 columns]"
      ]
     },
     "execution_count": 2,
     "metadata": {},
     "output_type": "execute_result"
    }
   ],
   "source": [
    "url=\"C:\\\\Users\\\\Faraz\\\\Downloads\\\\po2_data.csv\"\n",
    "df=pd.read_csv(url)\n",
    "df.head()"
   ]
  },
  {
   "cell_type": "code",
   "execution_count": 3,
   "id": "bcb08c72",
   "metadata": {},
   "outputs": [
    {
     "name": "stdout",
     "output_type": "stream",
     "text": [
      "<class 'pandas.core.frame.DataFrame'>\n",
      "RangeIndex: 5875 entries, 0 to 5874\n",
      "Data columns (total 22 columns):\n",
      " #   Column          Non-Null Count  Dtype  \n",
      "---  ------          --------------  -----  \n",
      " 0   subject#        5875 non-null   int64  \n",
      " 1   age             5875 non-null   int64  \n",
      " 2   sex             5875 non-null   int64  \n",
      " 3   test_time       5875 non-null   float64\n",
      " 4   motor_updrs     5875 non-null   float64\n",
      " 5   total_updrs     5875 non-null   float64\n",
      " 6   jitter(%)       5875 non-null   float64\n",
      " 7   jitter(abs)     5875 non-null   float64\n",
      " 8   jitter(rap)     5875 non-null   float64\n",
      " 9   jitter(ppq5)    5875 non-null   float64\n",
      " 10  jitter(ddp)     5875 non-null   float64\n",
      " 11  shimmer(%)      5875 non-null   float64\n",
      " 12  shimmer(abs)    5875 non-null   float64\n",
      " 13  shimmer(apq3)   5875 non-null   float64\n",
      " 14  shimmer(apq5)   5875 non-null   float64\n",
      " 15  shimmer(apq11)  5875 non-null   float64\n",
      " 16  shimmer(dda)    5875 non-null   float64\n",
      " 17  nhr             5875 non-null   float64\n",
      " 18  hnr             5875 non-null   float64\n",
      " 19  rpde            5875 non-null   float64\n",
      " 20  dfa             5875 non-null   float64\n",
      " 21  ppe             5875 non-null   float64\n",
      "dtypes: float64(19), int64(3)\n",
      "memory usage: 1009.9 KB\n"
     ]
    }
   ],
   "source": [
    "df.info()"
   ]
  },
  {
   "cell_type": "code",
   "execution_count": 4,
   "id": "919258e1",
   "metadata": {},
   "outputs": [
    {
     "data": {
      "image/png": "[encoded data removed]",
      "text/plain": [
       "<Figure size 432x288 with 1 Axes>"
      ]
     },
     "metadata": {
      "needs_background": "light"
     },
     "output_type": "display_data"
    }
   ],
   "source": [
    "plt.plot(df['jitter(%)'],df['total_updrs'])\n",
    "plt.show()"
   ]
  },
  {
   "cell_type": "code",
   "execution_count": 5,
   "id": "f22a5fc7",
   "metadata": {},
   "outputs": [
    {
     "data": {
      "text/plain": [
       "subject#          0\n",
       "age               0\n",
       "sex               0\n",
       "test_time         0\n",
       "motor_updrs       0\n",
       "total_updrs       0\n",
       "jitter(%)         0\n",
       "jitter(abs)       0\n",
       "jitter(rap)       0\n",
       "jitter(ppq5)      0\n",
       "jitter(ddp)       0\n",
       "shimmer(%)        0\n",
       "shimmer(abs)      0\n",
       "shimmer(apq3)     0\n",
       "shimmer(apq5)     0\n",
       "shimmer(apq11)    0\n",
       "shimmer(dda)      0\n",
       "nhr               0\n",
       "hnr               0\n",
       "rpde              0\n",
       "dfa               0\n",
       "ppe               0\n",
       "dtype: int64"
      ]
     },
     "execution_count": 5,
     "metadata": {},
     "output_type": "execute_result"
    }
   ],
   "source": [
    "df.isnull().sum()"
   ]
  },
  {
   "cell_type": "code",
   "execution_count": 6,
   "id": "ddff0f60",
   "metadata": {},
   "outputs": [
    {
     "data": {
      "text/plain": [
       "<Axes: xlabel='jitter(%)', ylabel='total_updrs'>"
      ]
     },
     "execution_count": 6,
     "metadata": {},
     "output_type": "execute_result"
    },
    {
     "data": {
      "image/png": "[encoded data removed]",
      "text/plain": [
       "<Figure size 1440x360 with 1 Axes>"
      ]
     },
     "metadata": {},
     "output_type": "display_data"
    }
   ],
   "source": [
    "sns.set(rc={'figure.figsize':(20,5)})\n",
    "sns.lineplot(x='jitter(%)',y='total_updrs',data=df.head(100))"
   ]
  },
  {
   "cell_type": "code",
   "execution_count": 7,
   "id": "933b5b60",
   "metadata": {},
   "outputs": [
    {
     "data": {
      "image/png": "[encoded data removed]",
      "text/plain": [
       "<Figure size 1440x360 with 1 Axes>"
      ]
     },
     "metadata": {},
     "output_type": "display_data"
    }
   ],
   "source": [
    "plt.scatter(df['jitter(%)'].head(100),df['total_updrs'].head(100))\n",
    "plt.show()"
   ]
  },
  {
   "cell_type": "code",
   "execution_count": 8,
   "id": "218c4628",
   "metadata": {},
   "outputs": [],
   "source": [
    "from sklearn.linear_model import LinearRegression\n",
    "from sklearn.metrics import mean_squared_error, r2_score"
   ]
  },
  {
   "cell_type": "code",
   "execution_count": 9,
   "id": "f7fa4134",
   "metadata": {},
   "outputs": [
    {
     "data": {
      "text/html": [
       "<div>\n",
       "<style scoped>\n",
       "    .dataframe tbody tr th:only-of-type {\n",
       "        vertical-align: middle;\n",
       "    }\n",
       "\n",
       "    .dataframe tbody tr th {\n",
       "        vertical-align: top;\n",
       "    }\n",
       "\n",
       "    .dataframe thead th {\n",
       "        text-align: right;\n",
       "    }\n",
       "</style>\n",
       "<table border=\"1\" class=\"dataframe\">\n",
       "  <thead>\n",
       "    <tr style=\"text-align: right;\">\n",
       "      <th></th>\n",
       "      <th>subject#</th>\n",
       "      <th>age</th>\n",
       "      <th>sex</th>\n",
       "      <th>test_time</th>\n",
       "      <th>motor_updrs</th>\n",
       "      <th>total_updrs</th>\n",
       "      <th>jitter(%)</th>\n",
       "      <th>jitter(abs)</th>\n",
       "      <th>jitter(rap)</th>\n",
       "      <th>jitter(ppq5)</th>\n",
       "      <th>...</th>\n",
       "      <th>shimmer(abs)</th>\n",
       "      <th>shimmer(apq3)</th>\n",
       "      <th>shimmer(apq5)</th>\n",
       "      <th>shimmer(apq11)</th>\n",
       "      <th>shimmer(dda)</th>\n",
       "      <th>nhr</th>\n",
       "      <th>hnr</th>\n",
       "      <th>rpde</th>\n",
       "      <th>dfa</th>\n",
       "      <th>ppe</th>\n",
       "    </tr>\n",
       "  </thead>\n",
       "  <tbody>\n",
       "    <tr>\n",
       "      <th>4700</th>\n",
       "      <td>35</td>\n",
       "      <td>71</td>\n",
       "      <td>0</td>\n",
       "      <td>55.427</td>\n",
       "      <td>36.630</td>\n",
       "      <td>54.630</td>\n",
       "      <td>0.00644</td>\n",
       "      <td>0.000048</td>\n",
       "      <td>0.00280</td>\n",
       "      <td>0.00373</td>\n",
       "      <td>...</td>\n",
       "      <td>0.347</td>\n",
       "      <td>0.01732</td>\n",
       "      <td>0.02423</td>\n",
       "      <td>0.03757</td>\n",
       "      <td>0.05196</td>\n",
       "      <td>0.015500</td>\n",
       "      <td>20.135</td>\n",
       "      <td>0.46476</td>\n",
       "      <td>0.77366</td>\n",
       "      <td>0.30116</td>\n",
       "    </tr>\n",
       "    <tr>\n",
       "      <th>4701</th>\n",
       "      <td>35</td>\n",
       "      <td>71</td>\n",
       "      <td>0</td>\n",
       "      <td>62.407</td>\n",
       "      <td>36.709</td>\n",
       "      <td>54.709</td>\n",
       "      <td>0.00557</td>\n",
       "      <td>0.000039</td>\n",
       "      <td>0.00300</td>\n",
       "      <td>0.00289</td>\n",
       "      <td>...</td>\n",
       "      <td>0.298</td>\n",
       "      <td>0.01705</td>\n",
       "      <td>0.01901</td>\n",
       "      <td>0.03213</td>\n",
       "      <td>0.05114</td>\n",
       "      <td>0.011377</td>\n",
       "      <td>21.024</td>\n",
       "      <td>0.49709</td>\n",
       "      <td>0.74069</td>\n",
       "      <td>0.22621</td>\n",
       "    </tr>\n",
       "    <tr>\n",
       "      <th>4702</th>\n",
       "      <td>35</td>\n",
       "      <td>71</td>\n",
       "      <td>0</td>\n",
       "      <td>69.412</td>\n",
       "      <td>36.789</td>\n",
       "      <td>54.789</td>\n",
       "      <td>0.01178</td>\n",
       "      <td>0.000082</td>\n",
       "      <td>0.00498</td>\n",
       "      <td>0.00566</td>\n",
       "      <td>...</td>\n",
       "      <td>0.630</td>\n",
       "      <td>0.03052</td>\n",
       "      <td>0.04219</td>\n",
       "      <td>0.04848</td>\n",
       "      <td>0.09155</td>\n",
       "      <td>0.045229</td>\n",
       "      <td>16.685</td>\n",
       "      <td>0.61271</td>\n",
       "      <td>0.75825</td>\n",
       "      <td>0.35060</td>\n",
       "    </tr>\n",
       "    <tr>\n",
       "      <th>4703</th>\n",
       "      <td>35</td>\n",
       "      <td>71</td>\n",
       "      <td>0</td>\n",
       "      <td>76.392</td>\n",
       "      <td>36.868</td>\n",
       "      <td>54.868</td>\n",
       "      <td>0.00536</td>\n",
       "      <td>0.000037</td>\n",
       "      <td>0.00208</td>\n",
       "      <td>0.00299</td>\n",
       "      <td>...</td>\n",
       "      <td>0.288</td>\n",
       "      <td>0.01472</td>\n",
       "      <td>0.01879</td>\n",
       "      <td>0.02998</td>\n",
       "      <td>0.04417</td>\n",
       "      <td>0.012209</td>\n",
       "      <td>21.185</td>\n",
       "      <td>0.48211</td>\n",
       "      <td>0.72898</td>\n",
       "      <td>0.27964</td>\n",
       "    </tr>\n",
       "    <tr>\n",
       "      <th>4704</th>\n",
       "      <td>35</td>\n",
       "      <td>71</td>\n",
       "      <td>0</td>\n",
       "      <td>83.455</td>\n",
       "      <td>36.948</td>\n",
       "      <td>54.948</td>\n",
       "      <td>0.00637</td>\n",
       "      <td>0.000044</td>\n",
       "      <td>0.00278</td>\n",
       "      <td>0.00356</td>\n",
       "      <td>...</td>\n",
       "      <td>0.399</td>\n",
       "      <td>0.01825</td>\n",
       "      <td>0.02187</td>\n",
       "      <td>0.03283</td>\n",
       "      <td>0.05476</td>\n",
       "      <td>0.018336</td>\n",
       "      <td>19.902</td>\n",
       "      <td>0.51928</td>\n",
       "      <td>0.75416</td>\n",
       "      <td>0.24856</td>\n",
       "    </tr>\n",
       "    <tr>\n",
       "      <th>...</th>\n",
       "      <td>...</td>\n",
       "      <td>...</td>\n",
       "      <td>...</td>\n",
       "      <td>...</td>\n",
       "      <td>...</td>\n",
       "      <td>...</td>\n",
       "      <td>...</td>\n",
       "      <td>...</td>\n",
       "      <td>...</td>\n",
       "      <td>...</td>\n",
       "      <td>...</td>\n",
       "      <td>...</td>\n",
       "      <td>...</td>\n",
       "      <td>...</td>\n",
       "      <td>...</td>\n",
       "      <td>...</td>\n",
       "      <td>...</td>\n",
       "      <td>...</td>\n",
       "      <td>...</td>\n",
       "      <td>...</td>\n",
       "      <td>...</td>\n",
       "    </tr>\n",
       "    <tr>\n",
       "      <th>5870</th>\n",
       "      <td>42</td>\n",
       "      <td>61</td>\n",
       "      <td>0</td>\n",
       "      <td>142.790</td>\n",
       "      <td>22.485</td>\n",
       "      <td>33.485</td>\n",
       "      <td>0.00406</td>\n",
       "      <td>0.000031</td>\n",
       "      <td>0.00167</td>\n",
       "      <td>0.00168</td>\n",
       "      <td>...</td>\n",
       "      <td>0.160</td>\n",
       "      <td>0.00973</td>\n",
       "      <td>0.01133</td>\n",
       "      <td>0.01549</td>\n",
       "      <td>0.02920</td>\n",
       "      <td>0.025137</td>\n",
       "      <td>22.369</td>\n",
       "      <td>0.64215</td>\n",
       "      <td>0.55314</td>\n",
       "      <td>0.21367</td>\n",
       "    </tr>\n",
       "    <tr>\n",
       "      <th>5871</th>\n",
       "      <td>42</td>\n",
       "      <td>61</td>\n",
       "      <td>0</td>\n",
       "      <td>149.840</td>\n",
       "      <td>21.988</td>\n",
       "      <td>32.988</td>\n",
       "      <td>0.00297</td>\n",
       "      <td>0.000025</td>\n",
       "      <td>0.00119</td>\n",
       "      <td>0.00147</td>\n",
       "      <td>...</td>\n",
       "      <td>0.215</td>\n",
       "      <td>0.01052</td>\n",
       "      <td>0.01277</td>\n",
       "      <td>0.01904</td>\n",
       "      <td>0.03157</td>\n",
       "      <td>0.011927</td>\n",
       "      <td>22.886</td>\n",
       "      <td>0.52598</td>\n",
       "      <td>0.56518</td>\n",
       "      <td>0.12621</td>\n",
       "    </tr>\n",
       "    <tr>\n",
       "      <th>5872</th>\n",
       "      <td>42</td>\n",
       "      <td>61</td>\n",
       "      <td>0</td>\n",
       "      <td>156.820</td>\n",
       "      <td>21.495</td>\n",
       "      <td>32.495</td>\n",
       "      <td>0.00349</td>\n",
       "      <td>0.000025</td>\n",
       "      <td>0.00152</td>\n",
       "      <td>0.00187</td>\n",
       "      <td>...</td>\n",
       "      <td>0.244</td>\n",
       "      <td>0.01371</td>\n",
       "      <td>0.01456</td>\n",
       "      <td>0.01877</td>\n",
       "      <td>0.04112</td>\n",
       "      <td>0.017701</td>\n",
       "      <td>25.065</td>\n",
       "      <td>0.47792</td>\n",
       "      <td>0.57888</td>\n",
       "      <td>0.14157</td>\n",
       "    </tr>\n",
       "    <tr>\n",
       "      <th>5873</th>\n",
       "      <td>42</td>\n",
       "      <td>61</td>\n",
       "      <td>0</td>\n",
       "      <td>163.730</td>\n",
       "      <td>21.007</td>\n",
       "      <td>32.007</td>\n",
       "      <td>0.00281</td>\n",
       "      <td>0.000020</td>\n",
       "      <td>0.00128</td>\n",
       "      <td>0.00151</td>\n",
       "      <td>...</td>\n",
       "      <td>0.131</td>\n",
       "      <td>0.00693</td>\n",
       "      <td>0.00870</td>\n",
       "      <td>0.01307</td>\n",
       "      <td>0.02078</td>\n",
       "      <td>0.007984</td>\n",
       "      <td>24.422</td>\n",
       "      <td>0.56865</td>\n",
       "      <td>0.56327</td>\n",
       "      <td>0.14204</td>\n",
       "    </tr>\n",
       "    <tr>\n",
       "      <th>5874</th>\n",
       "      <td>42</td>\n",
       "      <td>61</td>\n",
       "      <td>0</td>\n",
       "      <td>170.730</td>\n",
       "      <td>20.513</td>\n",
       "      <td>31.513</td>\n",
       "      <td>0.00282</td>\n",
       "      <td>0.000021</td>\n",
       "      <td>0.00135</td>\n",
       "      <td>0.00166</td>\n",
       "      <td>...</td>\n",
       "      <td>0.171</td>\n",
       "      <td>0.00946</td>\n",
       "      <td>0.01154</td>\n",
       "      <td>0.01470</td>\n",
       "      <td>0.02839</td>\n",
       "      <td>0.008172</td>\n",
       "      <td>23.259</td>\n",
       "      <td>0.58608</td>\n",
       "      <td>0.57077</td>\n",
       "      <td>0.15336</td>\n",
       "    </tr>\n",
       "  </tbody>\n",
       "</table>\n",
       "<p>1175 rows × 22 columns</p>\n",
       "</div>"
      ],
      "text/plain": [
       "      subject#  age  sex  test_time  motor_updrs  total_updrs  jitter(%)  \\\n",
       "4700        35   71    0     55.427       36.630       54.630    0.00644   \n",
       "4701        35   71    0     62.407       36.709       54.709    0.00557   \n",
       "4702        35   71    0     69.412       36.789       54.789    0.01178   \n",
       "4703        35   71    0     76.392       36.868       54.868    0.00536   \n",
       "4704        35   71    0     83.455       36.948       54.948    0.00637   \n",
       "...        ...  ...  ...        ...          ...          ...        ...   \n",
       "5870        42   61    0    142.790       22.485       33.485    0.00406   \n",
       "5871        42   61    0    149.840       21.988       32.988    0.00297   \n",
       "5872        42   61    0    156.820       21.495       32.495    0.00349   \n",
       "5873        42   61    0    163.730       21.007       32.007    0.00281   \n",
       "5874        42   61    0    170.730       20.513       31.513    0.00282   \n",
       "\n",
       "      jitter(abs)  jitter(rap)  jitter(ppq5)  ...  shimmer(abs)  \\\n",
       "4700     0.000048      0.00280       0.00373  ...         0.347   \n",
       "4701     0.000039      0.00300       0.00289  ...         0.298   \n",
       "4702     0.000082      0.00498       0.00566  ...         0.630   \n",
       "4703     0.000037      0.00208       0.00299  ...         0.288   \n",
       "4704     0.000044      0.00278       0.00356  ...         0.399   \n",
       "...           ...          ...           ...  ...           ...   \n",
       "5870     0.000031      0.00167       0.00168  ...         0.160   \n",
       "5871     0.000025      0.00119       0.00147  ...         0.215   \n",
       "5872     0.000025      0.00152       0.00187  ...         0.244   \n",
       "5873     0.000020      0.00128       0.00151  ...         0.131   \n",
       "5874     0.000021      0.00135       0.00166  ...         0.171   \n",
       "\n",
       "      shimmer(apq3)  shimmer(apq5)  shimmer(apq11)  shimmer(dda)       nhr  \\\n",
       "4700        0.01732        0.02423         0.03757       0.05196  0.015500   \n",
       "4701        0.01705        0.01901         0.03213       0.05114  0.011377   \n",
       "4702        0.03052        0.04219         0.04848       0.09155  0.045229   \n",
       "4703        0.01472        0.01879         0.02998       0.04417  0.012209   \n",
       "4704        0.01825        0.02187         0.03283       0.05476  0.018336   \n",
       "...             ...            ...             ...           ...       ...   \n",
       "5870        0.00973        0.01133         0.01549       0.02920  0.025137   \n",
       "5871        0.01052        0.01277         0.01904       0.03157  0.011927   \n",
       "5872        0.01371        0.01456         0.01877       0.04112  0.017701   \n",
       "5873        0.00693        0.00870         0.01307       0.02078  0.007984   \n",
       "5874        0.00946        0.01154         0.01470       0.02839  0.008172   \n",
       "\n",
       "         hnr     rpde      dfa      ppe  \n",
       "4700  20.135  0.46476  0.77366  0.30116  \n",
       "4701  21.024  0.49709  0.74069  0.22621  \n",
       "4702  16.685  0.61271  0.75825  0.35060  \n",
       "4703  21.185  0.48211  0.72898  0.27964  \n",
       "4704  19.902  0.51928  0.75416  0.24856  \n",
       "...      ...      ...      ...      ...  \n",
       "5870  22.369  0.64215  0.55314  0.21367  \n",
       "5871  22.886  0.52598  0.56518  0.12621  \n",
       "5872  25.065  0.47792  0.57888  0.14157  \n",
       "5873  24.422  0.56865  0.56327  0.14204  \n",
       "5874  23.259  0.58608  0.57077  0.15336  \n",
       "\n",
       "[1175 rows x 22 columns]"
      ]
     },
     "execution_count": 9,
     "metadata": {},
     "output_type": "execute_result"
    }
   ],
   "source": [
    "train_size=int(0.8*len(df))\n",
    "training_set=df.iloc[:train_size,:]\n",
    "testing_set=df.iloc[train_size:,:]\n",
    "testing_set"
   ]
  },
  {
   "cell_type": "code",
   "execution_count": 10,
   "id": "295dc0f3",
   "metadata": {},
   "outputs": [],
   "source": [
    "X_train=training_set['jitter(%)'].values.reshape(-1,1)\n",
    "X_test=testing_set['jitter(%)'].values.reshape(-1,1)\n",
    "y_train=training_set['total_updrs'].values.reshape(-1,1)\n",
    "y_test=testing_set['total_updrs'].values.reshape(-1,1)\n",
    "from sklearn.preprocessing import PolynomialFeatures"
   ]
  },
  {
   "cell_type": "code",
   "execution_count": 12,
   "id": "46be42a8",
   "metadata": {},
   "outputs": [
    {
     "data": {
      "text/plain": [
       "[-1.1745915306200936,\n",
       " -1.1424009444355359,\n",
       " -1.1218745030430517,\n",
       " -1.14069446207083,\n",
       " -1.1623058208521377]"
      ]
     },
     "execution_count": 12,
     "metadata": {},
     "output_type": "execute_result"
    }
   ],
   "source": [
    "llm=LinearRegression()\n",
    "best_score=[]\n",
    "n=5\n",
    "\n",
    "for i in range(5):\n",
    "    poly=PolynomialFeatures(degree=i)\n",
    "    poly2=poly.fit_transform(X_train)\n",
    "    poly3=poly.fit_transform(X_test)\n",
    "    model=LinearRegression()\n",
    "    llm.fit(poly2,y_train)\n",
    "    pre=llm.predict(poly3)\n",
    "    best_score.append(r2_score(y_test,pre))\n",
    "\n",
    "best_score    "
   ]
  },
  {
   "cell_type": "code",
   "execution_count": 13,
   "id": "50e4904e",
   "metadata": {},
   "outputs": [
    {
     "data": {
      "text/plain": [
       "LinearRegression()"
      ]
     },
     "execution_count": 13,
     "metadata": {},
     "output_type": "execute_result"
    }
   ],
   "source": [
    "model=LinearRegression()\n",
    "model.fit(X_train,y_train)"
   ]
  },
  {
   "cell_type": "code",
   "execution_count": 14,
   "id": "51eae2f4",
   "metadata": {},
   "outputs": [
    {
     "data": {
      "text/plain": [
       "-1.1424009444355367"
      ]
     },
     "execution_count": 14,
     "metadata": {},
     "output_type": "execute_result"
    }
   ],
   "source": [
    "pre=model.predict(X_test)\n",
    "r2_score(y_test,pre)"
   ]
  },
  {
   "cell_type": "code",
   "execution_count": 15,
   "id": "73bacf4f",
   "metadata": {},
   "outputs": [
    {
     "data": {
      "image/png": "[encoded data removed]",
      "text/plain": [
       "<Figure size 1440x360 with 1 Axes>"
      ]
     },
     "metadata": {},
     "output_type": "display_data"
    }
   ],
   "source": [
    "plt.scatter(X_test, y_test, color='blue', label='Data')\n",
    "plt.plot(X_test, pre, color='red', linewidth=2, label='Polynomial Regression')\n",
    "plt.legend()\n",
    "plt.xlabel('X')\n",
    "plt.ylabel('y')\n",
    "plt.show()"
   ]
  },
  {
   "cell_type": "code",
   "execution_count": 16,
   "id": "d507a2dd",
   "metadata": {},
   "outputs": [
    {
     "name": "stdout",
     "output_type": "stream",
     "text": [
      "MAE: 10.518428141110729\n"
     ]
    }
   ],
   "source": [
    "from sklearn.metrics import mean_absolute_error, mean_squared_error, r2_score\n",
    "\n",
    "mae = mean_absolute_error(y_test, pre)\n",
    "print(\"MAE:\", mae)"
   ]
  },
  {
   "cell_type": "code",
   "execution_count": 17,
   "id": "b4947190",
   "metadata": {},
   "outputs": [
    {
     "name": "stdout",
     "output_type": "stream",
     "text": [
      "MSE: 190.24176931268502\n"
     ]
    }
   ],
   "source": [
    "mse = mean_squared_error(y_test, pre)\n",
    "print(\"MSE:\", mse)"
   ]
  },
  {
   "cell_type": "code",
   "execution_count": 18,
   "id": "4d4961fe",
   "metadata": {},
   "outputs": [
    {
     "name": "stdout",
     "output_type": "stream",
     "text": [
      "RMSE: 13.792815858724607\n"
     ]
    }
   ],
   "source": [
    "rmse = np.sqrt(mse)\n",
    "print(\"RMSE:\", rmse)"
   ]
  },
  {
   "cell_type": "code",
   "execution_count": 19,
   "id": "03e5ec5f",
   "metadata": {},
   "outputs": [
    {
     "name": "stdout",
     "output_type": "stream",
     "text": [
      "R-squared: -1.1424009444355367\n"
     ]
    }
   ],
   "source": [
    "r2 = r2_score(y_test, pre)\n",
    "print(\"R-squared:\", r2)"
   ]
  },
  {
   "cell_type": "code",
   "execution_count": 20,
   "id": "f34ae08b",
   "metadata": {},
   "outputs": [
    {
     "name": "stdout",
     "output_type": "stream",
     "text": [
      "Adjusted R-squared: 2516.17870876732\n"
     ]
    }
   ],
   "source": [
    "n = len(y_test)  # Number of data points\n",
    "p = len(pre)  # Number of predictors (if you are working with a model)\n",
    "\n",
    "adjusted_r2 = 1 - ((1 - r2) * (n - 1) / (n - p - 1))\n",
    "print(\"Adjusted R-squared:\", adjusted_r2)"
   ]
  },
  {
   "cell_type": "code",
   "execution_count": 21,
   "id": "c33c9c45",
   "metadata": {},
   "outputs": [
    {
     "name": "stdout",
     "output_type": "stream",
     "text": [
      "NRMSE: 0.4225351793255708\n"
     ]
    }
   ],
   "source": [
    "range_actual_values = np.max(y_test) - np.min(y_test)\n",
    "nrmse = rmse / range_actual_values\n",
    "print(\"NRMSE:\", nrmse)"
   ]
  },
  {
   "cell_type": "code",
   "execution_count": null,
   "id": "99d1cb83",
   "metadata": {},
   "outputs": [],
   "source": []
  }
 ],
 "metadata": {
  "kernelspec": {
   "display_name": "Python 3 (ipykernel)",
   "language": "python",
   "name": "python3"
  },
  "language_info": {
   "codemirror_mode": {
    "name": "ipython",
    "version": 3
   },
   "file_extension": ".py",
   "mimetype": "text/x-python",
   "name": "python",
   "nbconvert_exporter": "python",
   "pygments_lexer": "ipython3",
   "version": "3.10.1"
  }
 },
 "nbformat": 4,
 "nbformat_minor": 5
}
